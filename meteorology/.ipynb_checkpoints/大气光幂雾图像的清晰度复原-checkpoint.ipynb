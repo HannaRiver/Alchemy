{
 "cells": [
  {
   "cell_type": "markdown",
   "metadata": {},
   "source": [
    "# [大气光幂雾图像的清晰度复原(2016)](http://www.doc88.com/p-9913150696320.html)\n",
    "\n",
    "## 需要了解的算法\n",
    "\n",
    "### Retinex类算法\n",
    "- 具有迭代思路的Retinex算法（1983）\n",
    "    - 处理效率高\n",
    "- 单尺度和多尺度类型的环绕中心的Retinex方法（1997）\n",
    "    - 更适宜处理雾气分布较为平均的降质图像\n",
    "- 基于马尔可夫随机场模型的Retinex增强算法\n",
    "    - 提升算法处理效率和时间\n",
    "\n",
    "### 直方图匹配方法\n",
    "- 景深突变处易出现细节信息的丢失\n",
    "\n",
    "### 暗通道\n",
    "- He\n",
    "    - 对景物色彩变化不明显、阴影部分面积小的图像处理效果不佳\n",
    "    - 算法效率\n",
    "- 对色度空间实现半逆转换，提高算法的速度和鲁棒性\n",
    "\n",
    "### 获取大气光幂\n",
    "- 采用中值滤波\n",
    "- 易在深度突变处引起晕轮效应，不能保留完整的边缘细节\n",
    "\n",
    "## 本文方法\n",
    "本文首先采用[各向异性滤波]()处理大气光幂，然后用色调调整。对全球环境光$A$先采用高通滤波滤取，进而采用循环四分图算法精细化处理。\n"
   ]
  },
  {
   "cell_type": "markdown",
   "metadata": {},
   "source": [
    "## 1 全球环境光值$A$的估计\n",
    "\n",
    "由于全球环境光值$A$接近于图像中雾气最浓处的值，而图像受雾气影响的部分属于低频区，故本文通过滤波操作得到全球环境光值$A$的区间，进而对滤波之后的图像采用[循环四分图算法]()来确定全球大气光值$A$。"
   ]
  },
  {
   "cell_type": "markdown",
   "metadata": {},
   "source": [
    "### 1.1 高斯低频滤波定位$A$值区间\n",
    "\n",
    "#### 1.1.1 高斯低通滤波器"
   ]
  },
  {
   "cell_type": "code",
   "execution_count": 16,
   "metadata": {},
   "outputs": [],
   "source": [
    "import cv2\n",
    "import numpy as np\n",
    "import math"
   ]
  },
  {
   "cell_type": "code",
   "execution_count": 3,
   "metadata": {},
   "outputs": [],
   "source": [
    "gt_img = cv2.imread('/work/meteorology/data/competitions/ug2/reside_dahaze_datasets/testset/SOTS/outdoor/gt/0001.png')"
   ]
  },
  {
   "cell_type": "code",
   "execution_count": 4,
   "metadata": {},
   "outputs": [],
   "source": [
    "cv2.imshow(\"gt_img\", gt_img)"
   ]
  },
  {
   "cell_type": "code",
   "execution_count": 6,
   "metadata": {},
   "outputs": [],
   "source": [
    "r, c = gt_img.shape[: 2]"
   ]
  },
  {
   "cell_type": "code",
   "execution_count": 17,
   "metadata": {},
   "outputs": [],
   "source": [
    "# 高斯低通滤波器\n",
    "def gaussianBlur(img, sigma):\n",
    "    d0 = 2*sigma*sigma\n",
    "    gaussianimg = img.copy()\n",
    "    r, c = gaussianimg.shape[: 2]\n",
    "    for i in range(r):\n",
    "        for j in range(c):\n",
    "            gaussianimg[i][j] = math.pow(i - r/2, 2) + math.pow(j - c/2, 2)\n",
    "\n",
    "    return gaussianimg\n",
    "    \n",
    "    "
   ]
  },
  {
   "cell_type": "code",
   "execution_count": 13,
   "metadata": {},
   "outputs": [
    {
     "data": {
      "text/plain": [
       "array([158, 109,  61], dtype=uint8)"
      ]
     },
     "execution_count": 13,
     "metadata": {},
     "output_type": "execute_result"
    }
   ],
   "source": [
    "gt_img[0][0]"
   ]
  },
  {
   "cell_type": "code",
   "execution_count": 11,
   "metadata": {},
   "outputs": [
    {
     "data": {
      "text/plain": [
       "(413, 550, 3)"
      ]
     },
     "execution_count": 11,
     "metadata": {},
     "output_type": "execute_result"
    }
   ],
   "source": [
    "gt_img.shape"
   ]
  },
  {
   "cell_type": "code",
   "execution_count": 18,
   "metadata": {},
   "outputs": [],
   "source": [
    "gaussianimg = gaussianBlur(gt_img, 60)"
   ]
  },
  {
   "cell_type": "code",
   "execution_count": 19,
   "metadata": {},
   "outputs": [
    {
     "data": {
      "text/plain": [
       "13"
      ]
     },
     "execution_count": 19,
     "metadata": {},
     "output_type": "execute_result"
    }
   ],
   "source": [
    "cv2.imshow(\"test\", gaussianimg)\n",
    "cv2.imshow(\"org\", gt_img)\n",
    "cv2.waitKey(0)"
   ]
  },
  {
   "cell_type": "code",
   "execution_count": null,
   "metadata": {},
   "outputs": [],
   "source": []
  }
 ],
 "metadata": {
  "kernelspec": {
   "display_name": "Python 3",
   "language": "python",
   "name": "python3"
  },
  "language_info": {
   "codemirror_mode": {
    "name": "ipython",
    "version": 3
   },
   "file_extension": ".py",
   "mimetype": "text/x-python",
   "name": "python",
   "nbconvert_exporter": "python",
   "pygments_lexer": "ipython3",
   "version": "3.5.2"
  }
 },
 "nbformat": 4,
 "nbformat_minor": 2
}
